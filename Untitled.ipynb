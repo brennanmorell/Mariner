{
 "cells": [
  {
   "cell_type": "code",
   "execution_count": 1,
   "metadata": {
    "collapsed": true
   },
   "outputs": [],
   "source": [
    "import pandas as pd \n",
    "import pymongo as pm"
   ]
  },
  {
   "cell_type": "code",
   "execution_count": 10,
   "metadata": {
    "collapsed": true
   },
   "outputs": [],
   "source": [
    "db=pm.MongoClient().local"
   ]
  },
  {
   "cell_type": "code",
   "execution_count": 12,
   "metadata": {},
   "outputs": [
    {
     "data": {
      "text/plain": [
       "<pymongo.results.InsertOneResult at 0x1139e9090>"
      ]
     },
     "execution_count": 12,
     "metadata": {},
     "output_type": "execute_result"
    }
   ],
   "source": [
    "db.test.insert_one({\"example\":1})"
   ]
  },
  {
   "cell_type": "code",
   "execution_count": 13,
   "metadata": {
    "collapsed": true
   },
   "outputs": [],
   "source": [
    "x = {'ask': {0: '186.38'}, 'bid': {0: '186.23'}, 'price': {0: '186.24000000'}, 'size': {0: '11.57557266'}, 'time': {0: '2017-07-29T03:17:25.689000Z'}, 'trade_id': {0: 8491232}, 'volume': {0: '133470.13494318'}}"
   ]
  },
  {
   "cell_type": "code",
   "execution_count": 14,
   "metadata": {},
   "outputs": [
    {
     "data": {
      "text/plain": [
       "{'ask': {0: '186.38'},\n",
       " 'bid': {0: '186.23'},\n",
       " 'price': {0: '186.24000000'},\n",
       " 'size': {0: '11.57557266'},\n",
       " 'time': {0: '2017-07-29T03:17:25.689000Z'},\n",
       " 'trade_id': {0: 8491232},\n",
       " 'volume': {0: '133470.13494318'}}"
      ]
     },
     "execution_count": 14,
     "metadata": {},
     "output_type": "execute_result"
    }
   ],
   "source": [
    "x"
   ]
  },
  {
   "cell_type": "code",
   "execution_count": 19,
   "metadata": {},
   "outputs": [
    {
     "name": "stdout",
     "output_type": "stream",
     "text": [
      "ask 186.38\n",
      "bid 186.23\n",
      "price 186.24000000\n",
      "size 11.57557266\n",
      "time 2017-07-29T03:17:25.689000Z\n",
      "trade_id 8491232\n",
      "volume 133470.13494318\n"
     ]
    }
   ],
   "source": [
    "for k,v in x.items():\n",
    "    print(k,v[0])"
   ]
  },
  {
   "cell_type": "code",
   "execution_count": null,
   "metadata": {
    "collapsed": true
   },
   "outputs": [],
   "source": []
  }
 ],
 "metadata": {
  "kernelspec": {
   "display_name": "Python 3",
   "language": "python",
   "name": "python3"
  },
  "language_info": {
   "codemirror_mode": {
    "name": "ipython",
    "version": 3
   },
   "file_extension": ".py",
   "mimetype": "text/x-python",
   "name": "python",
   "nbconvert_exporter": "python",
   "pygments_lexer": "ipython3",
   "version": "3.6.1"
  }
 },
 "nbformat": 4,
 "nbformat_minor": 2
}
